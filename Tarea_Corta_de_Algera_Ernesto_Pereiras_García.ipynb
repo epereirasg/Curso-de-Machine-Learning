{
  "nbformat": 4,
  "nbformat_minor": 0,
  "metadata": {
    "colab": {
      "name": "Tarea Corta de Algera-Ernesto Pereiras García.ipynb",
      "provenance": [],
      "collapsed_sections": [],
      "toc_visible": true,
      "include_colab_link": true
    },
    "kernelspec": {
      "display_name": "Python 3",
      "language": "python",
      "name": "python3"
    },
    "language_info": {
      "codemirror_mode": {
        "name": "ipython",
        "version": 3
      },
      "file_extension": ".py",
      "mimetype": "text/x-python",
      "name": "python",
      "nbconvert_exporter": "python",
      "pygments_lexer": "ipython3",
      "version": "3.7.6"
    }
  },
  "cells": [
    {
      "cell_type": "markdown",
      "metadata": {
        "id": "view-in-github",
        "colab_type": "text"
      },
      "source": [
        "<a href=\"https://colab.research.google.com/github/epereirasg/Curso-de-Machine-Learning/blob/main/Tarea_Corta_de_Algera_Ernesto_Pereiras_Garc%C3%ADa.ipynb\" target=\"_parent\"><img src=\"https://colab.research.google.com/assets/colab-badge.svg\" alt=\"Open In Colab\"/></a>"
      ]
    },
    {
      "cell_type": "markdown",
      "source": [
        "#**Tarea Corta de Algebra**\n",
        "\n",
        "**Autor:** Ernesto Pereiras García\n",
        "\n",
        "**Problema a Solucionar:**\n",
        "Si 2 boletos de adulto y 1 boleto de niño cuestan $ 32, y si 1 boleto de adulto y 3 boletos de niño cuestan 36, ¿cuál es el precio de cada uno? Se pide construir un Jupiter notebook que contenga la una descripción en texto de la resolución del sistema de ecuaciones (1 punto) y el código python que realiza el gráfico respectivo (1 punto) la idea es que te bases en el código estudiado en clases .\n",
        "\n",
        "**Descripción Matemática del problema:**\n",
        "\n",
        "x: Representa el costo de un boleto para adultos\n",
        "\n",
        "y: Representa el costo de un boleto para niños\n",
        "\n",
        "\n",
        "**Sistema de ecuaciones queda de la siguiente manera:**\n",
        "\n",
        "(I) 2x+y=32\n",
        "\n",
        "(II) x+3y=36\n",
        "\n",
        "**Resolución matemática:** \n",
        "\n",
        "Multiplicando la ecuación (II) por (-2) obtenemos:\n",
        "\n",
        "2x+y=32 (I)\n",
        "\n",
        "-2x-6y=-72\n",
        "\n",
        "5y=40\n",
        "\n",
        "y=8\n",
        "\n",
        "Sustituyendo y en (I), obtenemos:\n",
        "\n",
        "2x+8=32 (I)\n",
        "\n",
        "2x=32-8\n",
        "\n",
        "x=12\n",
        "\n",
        "**Comprobación:**\n",
        "Se verifica que la solución cumple con ambas ecuaciones.\n",
        "\n",
        "**Respuesta:**\n",
        "El costo de los boletos para adultos es de $12 y de 8 para niños."
      ],
      "metadata": {
        "id": "u1244PJzyeXz"
      }
    },
    {
      "cell_type": "markdown",
      "metadata": {
        "id": "2khww76J5w9n"
      },
      "source": [
        "##Solución #1: Representación Gráfica\n",
        "\n",
        "La idea es encontrar el valor de x e y que resuelva ambas ecuaciones.\n",
        "Una forma en que podemos hacer esto, puede ser representando\n",
        "graficamente ambas rectas y buscar los puntos en que las rectas se cruzan.\n",
        "\n",
        "\n",
        "\n"
      ]
    },
    {
      "cell_type": "markdown",
      "metadata": {
        "id": "niG_MgK-iV6K"
      },
      "source": [
        "### Solución utilizando Python"
      ]
    },
    {
      "cell_type": "code",
      "metadata": {
        "id": "LApX90aliab_"
      },
      "source": [
        "import numpy as np\n",
        "import matplotlib.pyplot as plt"
      ],
      "execution_count": 2,
      "outputs": []
    },
    {
      "cell_type": "code",
      "metadata": {
        "id": "E4odh9Shic1S",
        "colab": {
          "base_uri": "https://localhost:8080/",
          "height": 279
        },
        "outputId": "e4220de7-f907-43bd-b459-6730df79f2ff"
      },
      "source": [
        "# Graficando el sistema de ecuaciones.\n",
        "x = np.linspace(0, 36, 50) # crea 50 valores entre 0 y 36\n",
        "y = np.linspace(0, 36, 50)\n",
        "\n",
        "y1 = 32- 2*x  #despejando el valor de y en función de x para la ecuación (1)\n",
        "y2 = (36-x)/3 #despejando el valor de y en función de x para la ecuación (2)\n",
        "\n",
        "fig, ax = plt.subplots()\n",
        "plt.xlabel('Boletos de adultos(Costo en $)')\n",
        "plt.ylabel('Boletos de niños(Costo en $)')\n",
        "\n",
        "# Representando graficamente la Solución\n",
        "ax.plot(x, y1, c='green')\n",
        "ax.plot(x, y2, c='brown')\n",
        "plt.axvline(12, color='purple', linestyle='--')\n",
        "_ = plt.axhline(8, color='purple', linestyle='--')"
      ],
      "execution_count": 3,
      "outputs": [
        {
          "output_type": "display_data",
          "data": {
            "text/plain": [
              "<Figure size 432x288 with 1 Axes>"
            ],
            "image/png": "[encoded data removed]"
          },
          "metadata": {
            "needs_background": "light"
          }
        }
      ]
    },
    {
      "cell_type": "markdown",
      "metadata": {
        "id": "djVjXZy-nPaR"
      },
      "source": [
        "## Solución #2: Utilizando la función Numpy de Phyton\n",
        "\n"
      ]
    },
    {
      "cell_type": "code",
      "metadata": {
        "id": "SaaIjJSEigic",
        "colab": {
          "base_uri": "https://localhost:8080/"
        },
        "outputId": "2fb1c3fe-03d2-4f14-d5a0-a76579ab163b"
      },
      "source": [
        "#2x + y = 32\n",
        "#x + 3y = 36\n",
        "\n",
        "#La solución del sistema de ecuaciones lineales:\n",
        "A = np.array([[2, 1], [1, 3]])\n",
        "B = np.array([32, 36])\n",
        "X = np.linalg.solve(A,B)\n",
        "print(X)\n"
      ],
      "execution_count": 6,
      "outputs": [
        {
          "output_type": "stream",
          "name": "stdout",
          "text": [
            "[12.  8.]\n"
          ]
        }
      ]
    },
    {
      "cell_type": "markdown",
      "source": [
        "## Solución #3: Definiendo una función genérica para resolver sistemas de 2x2 de la forma : \n",
        "(I)ax+by=c\n",
        " \n",
        "(II)dx+ey=f"
      ],
      "metadata": {
        "id": "J289QTCwOEmV"
      }
    },
    {
      "cell_type": "code",
      "source": [
        "def solucion_sistemas_ecuaciones(a,b,c,d,e,f):\n",
        "    \n",
        "    determinante=a*e-b*d\n",
        "    \n",
        "    if determinante !=0:\n",
        "        x=(c*e-b*f) / determinante\n",
        "        y=(a*f-c*d) / determinante\n",
        "\n",
        "        return x, y\n",
        "    else:\n",
        "        return None, None    \n",
        "print('Introduzca los valores de a,b,c,d,e y f:')\n",
        "#para nuestro ejemplo sería 2 1 32 1 3 36\n",
        "a,b,c,d,e,f = map(float, input().split())\n",
        "    \n",
        "print(solucion_sistemas_ecuaciones(a,b,c,d,e,f))"
      ],
      "metadata": {
        "colab": {
          "base_uri": "https://localhost:8080/"
        },
        "id": "iJZYlVdTPGFd",
        "outputId": "736b991f-e321-4a2b-90d5-569c4d3a9ad1"
      },
      "execution_count": 5,
      "outputs": [
        {
          "output_type": "stream",
          "name": "stdout",
          "text": [
            "Introduzca los valores de a,b,c,d,e y f:\n",
            "2 1 32 1 3 36\n",
            "(12.0, 8.0)\n"
          ]
        }
      ]
    }
  ]
}
